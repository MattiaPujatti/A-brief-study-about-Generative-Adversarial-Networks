{
 "cells": [
  {
   "cell_type": "code",
   "execution_count": 1,
   "metadata": {},
   "outputs": [],
   "source": [
    "import csv\n",
    "import random"
   ]
  },
  {
   "cell_type": "code",
   "execution_count": 5,
   "metadata": {},
   "outputs": [
    {
     "name": "stdout",
     "output_type": "stream",
     "text": [
      "_________________4 cases\n",
      "\"0\" 11001100\n",
      "\"1\" 00111100\n",
      "\"2\" 11000011\n",
      "\"3\" 00110011\n"
     ]
    }
   ],
   "source": [
    "# number of data\n",
    "N=10000\n",
    "# possible different cases\n",
    "C=4\n",
    "# block size\n",
    "Z=2\n",
    "# size of each data point\n",
    "L=C*Z\n",
    "# choose among states\n",
    "# (1,0,1,0), (0,1,1,0), (1,0,0,1), (0,1,0,1)\n",
    "# from a 2x2 product of (1,0)x(1,0)\n",
    "# with prob=1/4\n",
    "# switch each variable of the L ones with probability q\n",
    "q=0.1\n",
    "\n",
    "y = [0]*N\n",
    "x = [[0]*L for j in range(N)]\n",
    "v0 = [0]*Z\n",
    "v1 = [1]*Z\n",
    "case = (v1 + v0 + v1 + v0,\n",
    "        v0 + v1 + v1 + v0,\n",
    "        v1 + v0 + v0 + v1,\n",
    "        v0 + v1 + v0 + v1)\n",
    "print('_________________4 cases')\n",
    "for c in range(C):\n",
    "    print('\"', c, '\" ', *case[c], sep=\"\")"
   ]
  },
  {
   "cell_type": "markdown",
   "metadata": {},
   "source": [
    "### Data Generation"
   ]
  },
  {
   "cell_type": "code",
   "execution_count": 6,
   "metadata": {},
   "outputs": [
    {
     "name": "stdout",
     "output_type": "stream",
     "text": [
      "________________DATA\n",
      "\"3\" 00110011\n",
      "\"3\" 00110011\n",
      "\"1\" 00110100\n",
      "\"3\" 10110111\n",
      "\"1\" 00111100\n",
      "\"1\" 00111100\n",
      "\"2\" 11000010\n",
      "\"3\" 10110011\n",
      "\"3\" 01110011\n",
      "\"0\" 10001100\n",
      "...\n"
     ]
    }
   ],
   "source": [
    "random.seed(12345)\n",
    "\n",
    "for i in range(N):\n",
    "    y[i] = random.randint(0,3)\n",
    "    x[i][:] = case[y[i]]\n",
    "    for j in range(L):\n",
    "        if random.random()<q:\n",
    "            x[i][j] = 1-x[i][j]\n",
    "            \n",
    "print('________________DATA')\n",
    "for i in range(10):\n",
    "    print('\"', y[i], '\" ', *x[i], sep=\"\")\n",
    "print('...')"
   ]
  },
  {
   "cell_type": "markdown",
   "metadata": {},
   "source": [
    "### Data Storage"
   ]
  },
  {
   "cell_type": "code",
   "execution_count": 7,
   "metadata": {},
   "outputs": [
    {
     "name": "stdout",
     "output_type": "stream",
     "text": [
      "dataRBM_q0.1.csv\n"
     ]
    }
   ],
   "source": [
    "fname = 'dataRBM_q' + str(q) + '.csv'\n",
    "print(fname)\n",
    "with open(fname, mode='w') as myfile:\n",
    "    writer = csv.writer(myfile, delimiter=',')\n",
    "    for i in range(N):\n",
    "        writer.writerow(x[i])"
   ]
  }
 ],
 "metadata": {
  "kernelspec": {
   "display_name": "Python 3",
   "language": "python",
   "name": "python3"
  },
  "language_info": {
   "codemirror_mode": {
    "name": "ipython",
    "version": 3
   },
   "file_extension": ".py",
   "mimetype": "text/x-python",
   "name": "python",
   "nbconvert_exporter": "python",
   "pygments_lexer": "ipython3",
   "version": "3.7.5"
  }
 },
 "nbformat": 4,
 "nbformat_minor": 4
}
