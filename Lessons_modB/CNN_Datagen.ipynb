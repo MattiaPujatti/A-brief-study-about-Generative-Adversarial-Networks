{
 "cells": [
  {
   "cell_type": "markdown",
   "metadata": {},
   "source": [
    "## Convolutional Neural Networks"
   ]
  },
  {
   "cell_type": "markdown",
   "metadata": {},
   "source": [
    "## Data generation"
   ]
  },
  {
   "cell_type": "code",
   "execution_count": 2,
   "metadata": {},
   "outputs": [],
   "source": [
    "import random\n",
    "import math\n",
    "import matplotlib.pyplot as plt"
   ]
  },
  {
   "cell_type": "code",
   "execution_count": 3,
   "metadata": {},
   "outputs": [
    {
     "name": "stdout",
     "output_type": "stream",
     "text": [
      "48\n",
      "-4\n",
      "12\n",
      "-60\n",
      "96\n",
      "-1\n",
      "33\n",
      "29\n",
      "56\n",
      "-26\n"
     ]
    }
   ],
   "source": [
    "random.seed(12345)\n",
    "\n",
    "# step: dx, DX, bias\n",
    "# P(dx) ~ exp( -|dx-bias| / DX )\n",
    "# lambda\n",
    "\n",
    "dx = lambda DX, bias: int((math.log(random.random())*DX)*2*(random.randint(0,1)-0.5)+bias)\n",
    "\n",
    "for i in range(10):\n",
    "    print(dx(50,5))"
   ]
  },
  {
   "cell_type": "code",
   "execution_count": 4,
   "metadata": {},
   "outputs": [],
   "source": [
    "# pattern: amplitude a, nr of bins z\n",
    "\n",
    "def pattern(i,z,a):\n",
    "    return int(a*math.sin((math.pi*i)/z))"
   ]
  },
  {
   "cell_type": "code",
   "execution_count": 8,
   "metadata": {},
   "outputs": [
    {
     "name": "stdout",
     "output_type": "stream",
     "text": [
      "[0, 48, 44, 56, -4, 92, 91, 124, 153, 209, 183, 214, 314, 236, 185, 136, 424, 442, 385, 502, 522, 524, 539, 438, 519, 457, 494, 658, 722, 821, 774, 687, 909, 931, 983, 977, 1058, 1099, 890, 839, 848, 903, 937, 907, 985, 1080, 1116, 1025, 1036, 975, 845, 893, 902, 727, 818, 909, 911, 972, 999, 1027] 0\n",
      "[1027, 1046, 996, 1104, 1042, 1203, 1231, 1328, 1269, 1256, 1202, 1149, 1247, 1412, 1574, 1678, 1906, 1922, 1824, 1702, 1611, 1383, 1317, 1236, 1116, 1049, 1134, 1247, 1241, 1292, 1226, 1326, 1264, 1177, 1345, 1468, 1444, 1449, 1466, 1445, 1476, 1442, 1632, 1630, 1654, 1602, 1453, 1411, 1519, 1496, 1503, 1532, 1533, 1547, 1514, 1660, 1660, 1679, 1731, 1735] 1\n",
      "[1735, 1745, 1659, 1672, 1698, 1715, 1748, 1870, 1798, 1729, 1719, 1744, 1770, 1743, 1677, 1664, 1631, 1567, 1614, 1531, 1602, 1584, 1403, 1413, 1407, 1234, 1189, 1267, 1341, 1551, 1611, 1608, 1517, 1324, 1220, 1134, 1062, 1083, 1086, 1144, 1234, 1360, 1419, 1548, 1516, 1539, 1559, 1564, 1583, 1565, 1479, 1479, 1393, 1375, 1338, 1273, 1097, 1068, 1066, 1082] 2\n"
     ]
    },
    {
     "data": {
      "image/png": "[encoded data removed]",
      "text/plain": [
       "<Figure size 432x288 with 1 Axes>"
      ]
     },
     "metadata": {
      "needs_background": "light"
     },
     "output_type": "display_data"
    }
   ],
   "source": [
    "random.seed(12345)\n",
    "\n",
    "# Amplitude\n",
    "A = 500\n",
    "# Lenght\n",
    "Z = 12\n",
    "# Sample length\n",
    "L = 60\n",
    "# Nr of data samples\n",
    "N = 10000\n",
    "# Step parameters\n",
    "DX = 50\n",
    "bias = 5\n",
    "\n",
    "y = [0]*N\n",
    "x = [[0]*L for i in range(N)]\n",
    "\n",
    "for i in range(N):\n",
    "    if i>0:\n",
    "        x[i][0] = x[i-1][-1]\n",
    "    for j in range(1,L):\n",
    "        x[i][j] = x[i][j-1] + dx(DX,bias)\n",
    "    \n",
    "    y[i] = i%3\n",
    "    if y[i]>0:\n",
    "        j0 = random.randint(0,L-1-Z)\n",
    "        sign = 3-2*y[i]\n",
    "        for j in range(Z):\n",
    "            x[i][j0+j] += sign*pattern(j,Z,A)\n",
    "\n",
    "for i in range(3):\n",
    "    print(x[i],y[i])\n",
    "    plt.plot(x[i])\n",
    "plt.show()"
   ]
  },
  {
   "cell_type": "code",
   "execution_count": 9,
   "metadata": {},
   "outputs": [
    {
     "data": {
      "text/plain": [
       "CompletedProcess(args=['mkdir', 'DATA'], returncode=0)"
      ]
     },
     "execution_count": 9,
     "metadata": {},
     "output_type": "execute_result"
    }
   ],
   "source": [
    "# create folder DATA\n",
    "import subprocess, csv\n",
    "# linux\n",
    "subprocess.run([\"mkdir\",\"DATA\"])"
   ]
  },
  {
   "cell_type": "code",
   "execution_count": 12,
   "metadata": {},
   "outputs": [
    {
     "name": "stdout",
     "output_type": "stream",
     "text": [
      "ts_L60_Z12_A500_DX50_bias5_N10000.csv\n"
     ]
    }
   ],
   "source": [
    "# write on csv file\n",
    "str0 = f'ts_L{L}_Z{Z}_A{A}_DX{DX}_bias{bias}_N{N}.csv'\n",
    "print(str0)\n",
    "\n",
    "fname = 'DATA/x_' + str0\n",
    "with open(fname, mode='w') as myfile:\n",
    "    writer = csv.writer(myfile,delimiter=',')\n",
    "    for i in range(N):\n",
    "        writer.writerow(x[i])\n",
    "\n",
    "fname = 'DATA/y_' + str0\n",
    "with open(fname, mode='w') as myfile:\n",
    "    writer = csv.writer(myfile,delimiter=',')\n",
    "    writer.writerows(map(lambda yy: [yy], y))"
   ]
  }
 ],
 "metadata": {
  "kernelspec": {
   "display_name": "Python 3",
   "language": "python",
   "name": "python3"
  },
  "language_info": {
   "codemirror_mode": {
    "name": "ipython",
    "version": 3
   },
   "file_extension": ".py",
   "mimetype": "text/x-python",
   "name": "python",
   "nbconvert_exporter": "python",
   "pygments_lexer": "ipython3",
   "version": "3.7.5"
  }
 },
 "nbformat": 4,
 "nbformat_minor": 2
}
