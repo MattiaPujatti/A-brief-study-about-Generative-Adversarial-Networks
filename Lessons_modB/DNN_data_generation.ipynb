{
 "cells": [
  {
   "cell_type": "markdown",
   "metadata": {},
   "source": [
    "**DNN: data generation**"
   ]
  },
  {
   "cell_type": "markdown",
   "metadata": {},
   "source": [
    "In this notebook we will generate sequences that are apparently random, but some of them include the secret keys."
   ]
  },
  {
   "cell_type": "code",
   "execution_count": 1,
   "metadata": {},
   "outputs": [
    {
     "name": "stdout",
     "output_type": "stream",
     "text": [
      "6 0 4\n"
     ]
    }
   ],
   "source": [
    "import random\n",
    "\n",
    "# for reproducibility\n",
    "random.seed(12345)\n",
    "\n",
    "# check reproducibility\n",
    "print(random.randint(0,10),random.randint(0,10),random.randint(0,10)) # we should get 6 0 4"
   ]
  },
  {
   "cell_type": "code",
   "execution_count": 2,
   "metadata": {},
   "outputs": [],
   "source": [
    "# number of data\n",
    "N = 1000\n",
    "# string on L digits associated to each data, from 1 to 9\n",
    "L = 6\n",
    "C0 = 8      # secret keys\n",
    "C1 = 9\n",
    "# ...8.9.. cyclically\n",
    "Cmin = 1\n",
    "Cmax = 9\n",
    "y = [None] * N    # vector of labels\n",
    "x = [[None] * L for j in range(N)]    # input data is a matrix"
   ]
  },
  {
   "cell_type": "code",
   "execution_count": 3,
   "metadata": {},
   "outputs": [
    {
     "name": "stdout",
     "output_type": "stream",
     "text": [
      "[4, 5, 7, 3, 6, 2] 0\n",
      "[5, 9, 3, 9, 3, 6] 0\n",
      "[9, 9, 3, 3, 8, 2] 1\n",
      "[6, 6, 1, 8, 6, 1] 0\n",
      "[1, 1, 3, 3, 5, 2] 0\n",
      "[2, 3, 7, 4, 9, 6] 0\n",
      "[2, 8, 4, 9, 3, 5] 1\n",
      "[9, 3, 1, 3, 5, 1] 0\n",
      "[4, 6, 9, 6, 3, 7] 0\n",
      "[1, 1, 1, 8, 2, 7] 0\n"
     ]
    }
   ],
   "source": [
    "for i in range(N):\n",
    "    y[i] = int(random.randint(0,3)==0)    # is equal to 1 with prob 1/4, 0 otherwise\n",
    "    if y[i]:                              # if y[i] == 1\n",
    "        j0 = random.randint(0,L-1)\n",
    "        j1 = (j0+2)%L\n",
    "    ok = True\n",
    "    while ok:\n",
    "        for j in range(L):\n",
    "            n = random.randint(Cmin,Cmax)\n",
    "            if y[i]:                          # notice that we are assigning a random key only when y = 1\n",
    "                if j==j0:\n",
    "                    n=C0\n",
    "                elif j==j1:\n",
    "                    n=C1\n",
    "            x[i][j] = n\n",
    "        ok = False\n",
    "        if y[i]==0:\n",
    "            for j0 in range(L):\n",
    "                j1 = (j0+2)%L\n",
    "                if x[i][j0]==C0 and x[i][j1]==C1:\n",
    "                    ok=True                    # repeat the while to generate a better data\n",
    "\n",
    "for i in range(10):\n",
    "    print(x[i],y[i])"
   ]
  },
  {
   "cell_type": "code",
   "execution_count": 4,
   "metadata": {},
   "outputs": [
    {
     "data": {
      "text/plain": [
       "457362"
      ]
     },
     "execution_count": 4,
     "metadata": {},
     "output_type": "execute_result"
    }
   ],
   "source": [
    "# save space\n",
    "def compact(v):\n",
    "    s=0\n",
    "    p=10**(L-1)\n",
    "    j=0\n",
    "    while j<L:\n",
    "        s += p*v[j]\n",
    "        p = int(p/10)\n",
    "        j += 1\n",
    "    return s\n",
    "\n",
    "compact(x[0])"
   ]
  },
  {
   "cell_type": "code",
   "execution_count": 5,
   "metadata": {},
   "outputs": [],
   "source": [
    "# saving data in a file\n",
    "import csv\n",
    "with open('secretkeys.csv',mode='w') as myfile:\n",
    "    writer = csv.writer(myfile,delimiter=',')\n",
    "    for i in range(N):\n",
    "        writer.writerow([compact(x[i]),y[i]])"
   ]
  },
  {
   "cell_type": "markdown",
   "metadata": {},
   "source": [
    "We have just created a file of 1000 secret keys, each of which appear with probability 1/4 to contain the secret key and with probability 3/4 just to be a random number."
   ]
  }
 ],
 "metadata": {
  "kernelspec": {
   "display_name": "Python 3",
   "language": "python",
   "name": "python3"
  },
  "language_info": {
   "codemirror_mode": {
    "name": "ipython",
    "version": 3
   },
   "file_extension": ".py",
   "mimetype": "text/x-python",
   "name": "python",
   "nbconvert_exporter": "python",
   "pygments_lexer": "ipython3",
   "version": "3.7.5"
  }
 },
 "nbformat": 4,
 "nbformat_minor": 2
}
