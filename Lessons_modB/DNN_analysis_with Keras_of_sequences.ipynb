{
 "cells": [
  {
   "cell_type": "markdown",
   "metadata": {},
   "source": [
    "**DNN: analysis with Keras of sequences**"
   ]
  },
  {
   "cell_type": "markdown",
   "metadata": {},
   "source": [
    "Now we will see how to implement a NN usign Keras"
   ]
  },
  {
   "cell_type": "code",
   "execution_count": 1,
   "metadata": {},
   "outputs": [
    {
     "name": "stderr",
     "output_type": "stream",
     "text": [
      "Using TensorFlow backend.\n"
     ]
    }
   ],
   "source": [
    "import math\n",
    "import csv\n",
    "import numpy as np\n",
    "from keras.models import Sequential\n",
    "from keras.layers import Dense, Dropout\n",
    "\n",
    "# reproducibility\n",
    "np.random.seed(12345)\n",
    "\n",
    "# digits 1..9\n",
    "D = 9\n",
    "# fraction of training data\n",
    "perc_train = 0.8"
   ]
  },
  {
   "cell_type": "code",
   "execution_count": 2,
   "metadata": {},
   "outputs": [
    {
     "name": "stdout",
     "output_type": "stream",
     "text": [
      "data: 1000\n",
      "6\n",
      "457362 0\n",
      "593936 0\n",
      "993382 1\n",
      "661861 0\n",
      "113352 0\n",
      "237496 0\n",
      "284935 1\n",
      "931351 0\n",
      "469637 0\n",
      "111827 0\n",
      "\n",
      "data: 1000\n",
      "train: 800\n"
     ]
    }
   ],
   "source": [
    "fname = 'secretkeys.csv'\n",
    "dataset = np.loadtxt(fname, delimiter=',', dtype=int)\n",
    "N = len(dataset)\n",
    "print(f'data: {N}')\n",
    "# extract data and labels (rememeber to \"decompress\" data)\n",
    "s = dataset[:,0]\n",
    "y = dataset[:,-1]\n",
    "\n",
    "# length of a given string\n",
    "L = len(str(s[0]))\n",
    "print(L)\n",
    "LD = L*D\n",
    "\n",
    "for i in range(10):\n",
    "    print(s[i],y[i])\n",
    "    \n",
    "N_train = int(perc_train*N)\n",
    "print(f'\\ndata: {N}\\ntrain: {N_train}')"
   ]
  },
  {
   "cell_type": "code",
   "execution_count": 3,
   "metadata": {},
   "outputs": [
    {
     "name": "stdout",
     "output_type": "stream",
     "text": [
      "457362 --> [0, 0, 0, 1, 0, 0, 0, 0, 0, 0, 0, 0, 0, 1, 0, 0, 0, 0, 0, 0, 0, 0, 0, 0, 1, 0, 0, 0, 0, 1, 0, 0, 0, 0, 0, 0, 0, 0, 0, 0, 0, 1, 0, 0, 0, 0, 1, 0, 0, 0, 0, 0, 0, 0]\n",
      "111111 --> [1, 0, 0, 0, 0, 0, 0, 0, 0, 1, 0, 0, 0, 0, 0, 0, 0, 0, 1, 0, 0, 0, 0, 0, 0, 0, 0, 1, 0, 0, 0, 0, 0, 0, 0, 0, 1, 0, 0, 0, 0, 0, 0, 0, 0, 1, 0, 0, 0, 0, 0, 0, 0, 0]\n",
      "999999 --> [0, 0, 0, 0, 0, 0, 0, 0, 1, 0, 0, 0, 0, 0, 0, 0, 0, 1, 0, 0, 0, 0, 0, 0, 0, 0, 1, 0, 0, 0, 0, 0, 0, 0, 0, 1, 0, 0, 0, 0, 0, 0, 0, 0, 1, 0, 0, 0, 0, 0, 0, 0, 0, 1]\n"
     ]
    }
   ],
   "source": [
    "def expand(S):\n",
    "    if (len(str(S))!=L):\n",
    "        print('mismatch!')\n",
    "        return []\n",
    "    x = [0] * LD\n",
    "    p = 10**(L-1)\n",
    "    j = 0\n",
    "    while j<L:\n",
    "        q = int(S/p)\n",
    "        # notice that 1...9 --> 0...8 because we are dealing with python indices \n",
    "        x[j*D+(q-1)] = 1\n",
    "        j += 1\n",
    "        S = S-q*p\n",
    "        p = int(p/10)\n",
    "    return x\n",
    "\n",
    "print(s[0], '-->', expand(s[0]))\n",
    "print(111111, '-->', expand(111111))\n",
    "print(999999, '-->', expand(999999))"
   ]
  },
  {
   "cell_type": "markdown",
   "metadata": {},
   "source": [
    "Split training and test data"
   ]
  },
  {
   "cell_type": "code",
   "execution_count": 4,
   "metadata": {},
   "outputs": [
    {
     "name": "stdout",
     "output_type": "stream",
     "text": [
      "[0, 0, 0, 1, 0, 0, 0, 0, 0, 0, 0, 0, 0, 1, 0, 0, 0, 0, 0, 0, 0, 0, 0, 0, 1, 0, 0, 0, 0, 1, 0, 0, 0, 0, 0, 0, 0, 0, 0, 0, 0, 1, 0, 0, 0, 0, 1, 0, 0, 0, 0, 0, 0, 0]\n",
      "800 \t 200\n"
     ]
    }
   ],
   "source": [
    "x_all = [None]*N\n",
    "for i in range(N):\n",
    "    x_all[i] = expand(s[i])\n",
    "    \n",
    "print(x_all[0])\n",
    "\n",
    "(x_train, y_train) = (x_all[0:N_train],y[0:N_train])\n",
    "(x_test, y_test) = (x_all[N_train:],y[N_train:])\n",
    "print(len(x_train),'\\t',len(x_test))\n",
    "\n",
    "# Care that Keras want np arrays (in this case no needed)\n",
    "x_train = np.array(x_train)\n",
    "y_train = np.array(y_train)\n",
    "x_test = np.array(x_test)\n",
    "y_test = np.array(y_test)"
   ]
  },
  {
   "cell_type": "markdown",
   "metadata": {},
   "source": [
    "Define the model with Keras"
   ]
  },
  {
   "cell_type": "code",
   "execution_count": 5,
   "metadata": {},
   "outputs": [
    {
     "name": "stdout",
     "output_type": "stream",
     "text": [
      "Model: \"sequential_1\"\n",
      "_________________________________________________________________\n",
      "Layer (type)                 Output Shape              Param #   \n",
      "=================================================================\n",
      "dense_1 (Dense)              (None, 54)                2970      \n",
      "_________________________________________________________________\n",
      "dense_2 (Dense)              (None, 27)                1485      \n",
      "_________________________________________________________________\n",
      "dense_3 (Dense)              (None, 13)                364       \n",
      "_________________________________________________________________\n",
      "dropout_1 (Dropout)          (None, 13)                0         \n",
      "_________________________________________________________________\n",
      "dense_4 (Dense)              (None, 1)                 14        \n",
      "=================================================================\n",
      "Total params: 4,833\n",
      "Trainable params: 4,833\n",
      "Non-trainable params: 0\n",
      "_________________________________________________________________\n",
      "None\n"
     ]
    }
   ],
   "source": [
    "model = Sequential()\n",
    "model.add(Dense(LD,input_shape=(LD,),activation='relu'))          # Choosing the architecture of the network\n",
    "model.add(Dense(max(10,int(LD/2)),activation='relu'))             # arbitrary\n",
    "model.add(Dense(max(6,int(LD/4)),activation='relu')) \n",
    "model.add(Dropout(0.2))                      \n",
    "model.add(Dense(1,activation='sigmoid'))  \n",
    "\n",
    "print(model.summary())\n",
    "\n",
    "# Dropout want to remove a node with a certain probability, \n",
    "# introducing some stocasticity and preventing overfitting and determinism in the results"
   ]
  },
  {
   "cell_type": "markdown",
   "metadata": {},
   "source": [
    "Optimization method and cost function"
   ]
  },
  {
   "cell_type": "code",
   "execution_count": 6,
   "metadata": {},
   "outputs": [],
   "source": [
    "model.compile(loss='binary_crossentropy',\n",
    "              optimizer='adam',\n",
    "              metrics=['accuracy'])"
   ]
  },
  {
   "cell_type": "markdown",
   "metadata": {},
   "source": [
    "Training"
   ]
  },
  {
   "cell_type": "code",
   "execution_count": 7,
   "metadata": {},
   "outputs": [
    {
     "name": "stdout",
     "output_type": "stream",
     "text": [
      "Train on 800 samples, validate on 200 samples\n",
      "Epoch 1/80\n",
      "800/800 [==============================] - 1s 997us/step - loss: 0.6380 - accuracy: 0.6888 - val_loss: 0.5672 - val_accuracy: 0.7450\n",
      "Epoch 2/80\n",
      "800/800 [==============================] - 0s 147us/step - loss: 0.5400 - accuracy: 0.7450 - val_loss: 0.4983 - val_accuracy: 0.7450\n",
      "Epoch 3/80\n",
      "800/800 [==============================] - 0s 162us/step - loss: 0.4781 - accuracy: 0.7487 - val_loss: 0.4387 - val_accuracy: 0.7700\n",
      "Epoch 4/80\n",
      "800/800 [==============================] - 0s 139us/step - loss: 0.4092 - accuracy: 0.8012 - val_loss: 0.3736 - val_accuracy: 0.8300\n",
      "Epoch 5/80\n",
      "800/800 [==============================] - 0s 153us/step - loss: 0.3480 - accuracy: 0.8413 - val_loss: 0.3261 - val_accuracy: 0.8450\n",
      "Epoch 6/80\n",
      "800/800 [==============================] - 0s 130us/step - loss: 0.2998 - accuracy: 0.8637 - val_loss: 0.3048 - val_accuracy: 0.8650\n",
      "Epoch 7/80\n",
      "800/800 [==============================] - 0s 129us/step - loss: 0.2462 - accuracy: 0.9062 - val_loss: 0.2835 - val_accuracy: 0.8550\n",
      "Epoch 8/80\n",
      "800/800 [==============================] - 0s 166us/step - loss: 0.2182 - accuracy: 0.9100 - val_loss: 0.2706 - val_accuracy: 0.8750\n",
      "Epoch 9/80\n",
      "800/800 [==============================] - 0s 136us/step - loss: 0.1812 - accuracy: 0.9388 - val_loss: 0.2537 - val_accuracy: 0.8800\n",
      "Epoch 10/80\n",
      "800/800 [==============================] - 0s 133us/step - loss: 0.1402 - accuracy: 0.9575 - val_loss: 0.2430 - val_accuracy: 0.8900\n",
      "Epoch 11/80\n",
      "800/800 [==============================] - 0s 213us/step - loss: 0.1041 - accuracy: 0.9750 - val_loss: 0.2397 - val_accuracy: 0.8900\n",
      "Epoch 12/80\n",
      "800/800 [==============================] - 0s 310us/step - loss: 0.0733 - accuracy: 0.9850 - val_loss: 0.2213 - val_accuracy: 0.8900\n",
      "Epoch 13/80\n",
      "800/800 [==============================] - 0s 127us/step - loss: 0.0537 - accuracy: 0.9912 - val_loss: 0.2269 - val_accuracy: 0.9150\n",
      "Epoch 14/80\n",
      "800/800 [==============================] - 0s 139us/step - loss: 0.0446 - accuracy: 0.9962 - val_loss: 0.2131 - val_accuracy: 0.9200\n",
      "Epoch 15/80\n",
      "800/800 [==============================] - 0s 184us/step - loss: 0.0347 - accuracy: 0.9950 - val_loss: 0.1874 - val_accuracy: 0.9200\n",
      "Epoch 16/80\n",
      "800/800 [==============================] - 0s 122us/step - loss: 0.0234 - accuracy: 1.0000 - val_loss: 0.1952 - val_accuracy: 0.9200\n",
      "Epoch 17/80\n",
      "800/800 [==============================] - 0s 145us/step - loss: 0.0178 - accuracy: 1.0000 - val_loss: 0.2016 - val_accuracy: 0.9150\n",
      "Epoch 18/80\n",
      "800/800 [==============================] - 0s 109us/step - loss: 0.0133 - accuracy: 1.0000 - val_loss: 0.1941 - val_accuracy: 0.9200\n",
      "Epoch 19/80\n",
      "800/800 [==============================] - 0s 190us/step - loss: 0.0136 - accuracy: 1.0000 - val_loss: 0.1972 - val_accuracy: 0.9250\n",
      "Epoch 20/80\n",
      "800/800 [==============================] - 0s 176us/step - loss: 0.0092 - accuracy: 1.0000 - val_loss: 0.2097 - val_accuracy: 0.9250\n",
      "Epoch 21/80\n",
      "800/800 [==============================] - 0s 105us/step - loss: 0.0094 - accuracy: 0.9987 - val_loss: 0.2327 - val_accuracy: 0.9250\n",
      "Epoch 22/80\n",
      "800/800 [==============================] - 0s 147us/step - loss: 0.0067 - accuracy: 1.0000 - val_loss: 0.2092 - val_accuracy: 0.9250\n",
      "Epoch 23/80\n",
      "800/800 [==============================] - 0s 123us/step - loss: 0.0071 - accuracy: 1.0000 - val_loss: 0.2015 - val_accuracy: 0.9300\n",
      "Epoch 24/80\n",
      "800/800 [==============================] - 0s 134us/step - loss: 0.0051 - accuracy: 1.0000 - val_loss: 0.2004 - val_accuracy: 0.9300\n",
      "Epoch 25/80\n",
      "800/800 [==============================] - 0s 121us/step - loss: 0.0054 - accuracy: 1.0000 - val_loss: 0.2017 - val_accuracy: 0.9250\n",
      "Epoch 26/80\n",
      "800/800 [==============================] - 0s 160us/step - loss: 0.0062 - accuracy: 1.0000 - val_loss: 0.2218 - val_accuracy: 0.9200\n",
      "Epoch 27/80\n",
      "800/800 [==============================] - 0s 148us/step - loss: 0.0038 - accuracy: 1.0000 - val_loss: 0.2208 - val_accuracy: 0.9300\n",
      "Epoch 28/80\n",
      "800/800 [==============================] - 0s 180us/step - loss: 0.0037 - accuracy: 1.0000 - val_loss: 0.2264 - val_accuracy: 0.9250\n",
      "Epoch 29/80\n",
      "800/800 [==============================] - 0s 159us/step - loss: 0.0035 - accuracy: 1.0000 - val_loss: 0.2224 - val_accuracy: 0.9250\n",
      "Epoch 30/80\n",
      "800/800 [==============================] - 0s 123us/step - loss: 0.0045 - accuracy: 1.0000 - val_loss: 0.2376 - val_accuracy: 0.9350\n",
      "Epoch 31/80\n",
      "800/800 [==============================] - 0s 153us/step - loss: 0.0034 - accuracy: 0.9987 - val_loss: 0.1975 - val_accuracy: 0.9300\n",
      "Epoch 32/80\n",
      "800/800 [==============================] - 0s 127us/step - loss: 0.0038 - accuracy: 1.0000 - val_loss: 0.2079 - val_accuracy: 0.9350\n",
      "Epoch 33/80\n",
      "800/800 [==============================] - 0s 120us/step - loss: 0.0026 - accuracy: 1.0000 - val_loss: 0.2268 - val_accuracy: 0.9300\n",
      "Epoch 34/80\n",
      "800/800 [==============================] - 0s 121us/step - loss: 0.0042 - accuracy: 0.9987 - val_loss: 0.1907 - val_accuracy: 0.9500\n",
      "Epoch 35/80\n",
      "800/800 [==============================] - 0s 128us/step - loss: 0.0033 - accuracy: 1.0000 - val_loss: 0.2019 - val_accuracy: 0.9450\n",
      "Epoch 36/80\n",
      "800/800 [==============================] - 0s 231us/step - loss: 0.0029 - accuracy: 0.9987 - val_loss: 0.2080 - val_accuracy: 0.9450\n",
      "Epoch 37/80\n",
      "800/800 [==============================] - 0s 131us/step - loss: 0.0038 - accuracy: 1.0000 - val_loss: 0.2071 - val_accuracy: 0.9350\n",
      "Epoch 38/80\n",
      "800/800 [==============================] - 0s 144us/step - loss: 0.0022 - accuracy: 1.0000 - val_loss: 0.2263 - val_accuracy: 0.9300\n",
      "Epoch 39/80\n",
      "800/800 [==============================] - 0s 181us/step - loss: 0.0022 - accuracy: 0.9987 - val_loss: 0.2291 - val_accuracy: 0.9300\n",
      "Epoch 40/80\n",
      "800/800 [==============================] - 0s 141us/step - loss: 0.0016 - accuracy: 1.0000 - val_loss: 0.2238 - val_accuracy: 0.9300\n",
      "Epoch 41/80\n",
      "800/800 [==============================] - 0s 134us/step - loss: 0.0023 - accuracy: 1.0000 - val_loss: 0.2219 - val_accuracy: 0.9300\n",
      "Epoch 42/80\n",
      "800/800 [==============================] - 0s 135us/step - loss: 0.0032 - accuracy: 1.0000 - val_loss: 0.2388 - val_accuracy: 0.9300\n",
      "Epoch 43/80\n",
      "800/800 [==============================] - 0s 143us/step - loss: 0.0019 - accuracy: 1.0000 - val_loss: 0.2409 - val_accuracy: 0.9300\n",
      "Epoch 44/80\n",
      "800/800 [==============================] - 0s 167us/step - loss: 0.0012 - accuracy: 1.0000 - val_loss: 0.2473 - val_accuracy: 0.9350\n",
      "Epoch 45/80\n",
      "800/800 [==============================] - 0s 171us/step - loss: 0.0016 - accuracy: 1.0000 - val_loss: 0.2420 - val_accuracy: 0.9400\n",
      "Epoch 46/80\n",
      "800/800 [==============================] - 0s 153us/step - loss: 0.0020 - accuracy: 1.0000 - val_loss: 0.2455 - val_accuracy: 0.9350\n",
      "Epoch 47/80\n",
      "800/800 [==============================] - 0s 179us/step - loss: 9.8617e-04 - accuracy: 1.0000 - val_loss: 0.2553 - val_accuracy: 0.9350\n",
      "Epoch 48/80\n",
      "800/800 [==============================] - 0s 138us/step - loss: 0.0027 - accuracy: 0.9987 - val_loss: 0.2409 - val_accuracy: 0.9350\n",
      "Epoch 49/80\n",
      "800/800 [==============================] - 0s 139us/step - loss: 0.0023 - accuracy: 1.0000 - val_loss: 0.2389 - val_accuracy: 0.9350\n",
      "Epoch 50/80\n",
      "800/800 [==============================] - 0s 179us/step - loss: 9.2267e-04 - accuracy: 1.0000 - val_loss: 0.2439 - val_accuracy: 0.9350\n",
      "Epoch 51/80\n",
      "800/800 [==============================] - 0s 128us/step - loss: 6.2536e-04 - accuracy: 1.0000 - val_loss: 0.2482 - val_accuracy: 0.9350\n",
      "Epoch 52/80\n",
      "800/800 [==============================] - 0s 216us/step - loss: 0.0014 - accuracy: 1.0000 - val_loss: 0.2222 - val_accuracy: 0.9300\n",
      "Epoch 53/80\n",
      "800/800 [==============================] - 0s 184us/step - loss: 0.0016 - accuracy: 1.0000 - val_loss: 0.2141 - val_accuracy: 0.9450\n",
      "Epoch 54/80\n",
      "800/800 [==============================] - 0s 130us/step - loss: 8.9709e-04 - accuracy: 1.0000 - val_loss: 0.2144 - val_accuracy: 0.9450\n",
      "Epoch 55/80\n",
      "800/800 [==============================] - 0s 139us/step - loss: 7.8081e-04 - accuracy: 1.0000 - val_loss: 0.2187 - val_accuracy: 0.9350\n",
      "Epoch 56/80\n",
      "800/800 [==============================] - 0s 144us/step - loss: 0.0021 - accuracy: 0.9987 - val_loss: 0.2305 - val_accuracy: 0.9350\n",
      "Epoch 57/80\n"
     ]
    },
    {
     "name": "stdout",
     "output_type": "stream",
     "text": [
      "800/800 [==============================] - 0s 157us/step - loss: 9.3991e-04 - accuracy: 1.0000 - val_loss: 0.2283 - val_accuracy: 0.9400\n",
      "Epoch 58/80\n",
      "800/800 [==============================] - 0s 146us/step - loss: 0.0012 - accuracy: 1.0000 - val_loss: 0.2347 - val_accuracy: 0.9400\n",
      "Epoch 59/80\n",
      "800/800 [==============================] - 0s 184us/step - loss: 0.0011 - accuracy: 1.0000 - val_loss: 0.2122 - val_accuracy: 0.9450\n",
      "Epoch 60/80\n",
      "800/800 [==============================] - 0s 347us/step - loss: 6.8202e-04 - accuracy: 1.0000 - val_loss: 0.2084 - val_accuracy: 0.9450\n",
      "Epoch 61/80\n",
      "800/800 [==============================] - 0s 374us/step - loss: 9.3886e-04 - accuracy: 1.0000 - val_loss: 0.2175 - val_accuracy: 0.9450\n",
      "Epoch 62/80\n",
      "800/800 [==============================] - 0s 359us/step - loss: 7.3333e-04 - accuracy: 1.0000 - val_loss: 0.2100 - val_accuracy: 0.9500\n",
      "Epoch 63/80\n",
      "800/800 [==============================] - 0s 475us/step - loss: 7.4124e-04 - accuracy: 1.0000 - val_loss: 0.1942 - val_accuracy: 0.9500\n",
      "Epoch 64/80\n",
      "800/800 [==============================] - 0s 411us/step - loss: 6.1231e-04 - accuracy: 1.0000 - val_loss: 0.2035 - val_accuracy: 0.9400\n",
      "Epoch 65/80\n",
      "800/800 [==============================] - 0s 494us/step - loss: 0.0015 - accuracy: 1.0000 - val_loss: 0.2027 - val_accuracy: 0.9500\n",
      "Epoch 66/80\n",
      "800/800 [==============================] - 0s 527us/step - loss: 2.3696e-04 - accuracy: 1.0000 - val_loss: 0.2062 - val_accuracy: 0.9450\n",
      "Epoch 67/80\n",
      "800/800 [==============================] - 0s 375us/step - loss: 0.0016 - accuracy: 0.9987 - val_loss: 0.2051 - val_accuracy: 0.9500\n",
      "Epoch 68/80\n",
      "800/800 [==============================] - 0s 426us/step - loss: 7.3123e-04 - accuracy: 1.0000 - val_loss: 0.2207 - val_accuracy: 0.9350\n",
      "Epoch 69/80\n",
      "800/800 [==============================] - 0s 354us/step - loss: 0.0013 - accuracy: 1.0000 - val_loss: 0.1995 - val_accuracy: 0.9350\n",
      "Epoch 70/80\n",
      "800/800 [==============================] - 0s 413us/step - loss: 7.7742e-04 - accuracy: 1.0000 - val_loss: 0.2215 - val_accuracy: 0.9350\n",
      "Epoch 71/80\n",
      "800/800 [==============================] - 0s 382us/step - loss: 0.0013 - accuracy: 0.9987 - val_loss: 0.2150 - val_accuracy: 0.9400\n",
      "Epoch 72/80\n",
      "800/800 [==============================] - 0s 448us/step - loss: 2.5089e-04 - accuracy: 1.0000 - val_loss: 0.2135 - val_accuracy: 0.9450\n",
      "Epoch 73/80\n",
      "800/800 [==============================] - 0s 414us/step - loss: 2.8515e-04 - accuracy: 1.0000 - val_loss: 0.2171 - val_accuracy: 0.9400\n",
      "Epoch 74/80\n",
      "800/800 [==============================] - 0s 360us/step - loss: 2.3225e-04 - accuracy: 1.0000 - val_loss: 0.2176 - val_accuracy: 0.9350\n",
      "Epoch 75/80\n",
      "800/800 [==============================] - 0s 442us/step - loss: 3.5365e-04 - accuracy: 1.0000 - val_loss: 0.2201 - val_accuracy: 0.9450\n",
      "Epoch 76/80\n",
      "800/800 [==============================] - 0s 382us/step - loss: 2.1096e-04 - accuracy: 1.0000 - val_loss: 0.2212 - val_accuracy: 0.9400\n",
      "Epoch 77/80\n",
      "800/800 [==============================] - 0s 338us/step - loss: 2.7660e-04 - accuracy: 1.0000 - val_loss: 0.2264 - val_accuracy: 0.9350\n",
      "Epoch 78/80\n",
      "800/800 [==============================] - 0s 436us/step - loss: 9.9544e-04 - accuracy: 0.9987 - val_loss: 0.2309 - val_accuracy: 0.9350\n",
      "Epoch 79/80\n",
      "800/800 [==============================] - 0s 371us/step - loss: 0.0011 - accuracy: 0.9987 - val_loss: 0.2406 - val_accuracy: 0.9400\n",
      "Epoch 80/80\n",
      "800/800 [==============================] - 0s 390us/step - loss: 2.7594e-04 - accuracy: 1.0000 - val_loss: 0.2382 - val_accuracy: 0.9500\n"
     ]
    }
   ],
   "source": [
    "fit = model.fit(x_train, y_train, \n",
    "                epochs=80, \n",
    "                batch_size=20, \n",
    "                validation_data=(x_test,y_test))"
   ]
  },
  {
   "cell_type": "code",
   "execution_count": 8,
   "metadata": {},
   "outputs": [
    {
     "data": {
      "image/png": "[encoded data removed]",
      "text/plain": [
       "<Figure size 432x288 with 1 Axes>"
      ]
     },
     "metadata": {
      "needs_background": "light"
     },
     "output_type": "display_data"
    },
    {
     "data": {
      "image/png": "[encoded data removed]",
      "text/plain": [
       "<Figure size 432x288 with 1 Axes>"
      ]
     },
     "metadata": {
      "needs_background": "light"
     },
     "output_type": "display_data"
    }
   ],
   "source": [
    "import matplotlib.pyplot as plt\n",
    "\n",
    "# Plot the accuracy of the model\n",
    "plt.plot(fit.history['accuracy'])\n",
    "plt.plot(fit.history['val_accuracy'])\n",
    "plt.title('Model accuracy')\n",
    "plt.ylabel('accuracy')\n",
    "plt.xlabel('epoch')\n",
    "plt.legend(['Train','Validation'])\n",
    "plt.show()\n",
    "\n",
    "# Plot the loss of the model\n",
    "plt.plot(fit.history['loss'])\n",
    "plt.plot(fit.history['val_loss'])\n",
    "plt.title('Model Loss')\n",
    "plt.ylabel('loss')\n",
    "plt.xlabel('epoch')\n",
    "plt.legend(['Train','Validation'])\n",
    "plt.show()"
   ]
  }
 ],
 "metadata": {
  "kernelspec": {
   "display_name": "Python 3",
   "language": "python",
   "name": "python3"
  },
  "language_info": {
   "codemirror_mode": {
    "name": "ipython",
    "version": 3
   },
   "file_extension": ".py",
   "mimetype": "text/x-python",
   "name": "python",
   "nbconvert_exporter": "python",
   "pygments_lexer": "ipython3",
   "version": "3.7.5"
  }
 },
 "nbformat": 4,
 "nbformat_minor": 2
}
