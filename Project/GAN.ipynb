{
  "nbformat": 4,
  "nbformat_minor": 0,
  "metadata": {
    "accelerator": "GPU",
    "colab": {
      "name": "GAN.ipynb",
      "provenance": [],
      "collapsed_sections": [],
      "machine_shape": "hm"
    },
    "kernelspec": {
      "display_name": "Python 3",
      "language": "python",
      "name": "python3"
    },
    "language_info": {
      "codemirror_mode": {
        "name": "ipython",
        "version": 3
      },
      "file_extension": ".py",
      "mimetype": "text/x-python",
      "name": "python",
      "nbconvert_exporter": "python",
      "pygments_lexer": "ipython3",
      "version": "3.7.7"
    }
  },
  "cells": [
    {
      "cell_type": "code",
      "metadata": {
        "colab_type": "code",
        "id": "Adq-hInY5ZyP",
        "outputId": "4d7a2a1f-195b-4f32-912a-4b4cef9dbc14",
        "colab": {
          "base_uri": "https://localhost:8080/",
          "height": 34
        }
      },
      "source": [
        "import tensorflow as tf\n",
        "import numpy as np\n",
        "from tensorflow.keras import layers\n",
        "import matplotlib.pyplot as plt\n",
        "from tensorflow.keras.optimizers import Adam\n",
        "from sklearn.model_selection import train_test_split\n",
        "from tqdm import tqdm\n",
        "from IPython import display\n",
        "from tensorflow.keras import layers, datasets\n",
        "import os\n",
        "import imageio\n",
        "import shutil\n",
        "import time\n",
        "import PIL\n",
        "from keras.initializers import RandomNormal\n",
        "import random\n",
        "\n"
      ],
      "execution_count": 1,
      "outputs": [
        {
          "output_type": "stream",
          "text": [
            "Using TensorFlow backend.\n"
          ],
          "name": "stderr"
        }
      ]
    },
    {
      "cell_type": "code",
      "metadata": {
        "colab_type": "code",
        "id": "gSBrcZ4XWuR-",
        "colab": {}
      },
      "source": [
        "# Define a function to make data usable by a NN and another one to make the generated images in type to be plot\n",
        "def preprocess(x, size, channels=1):    \n",
        "    \"\"\" Define a function to make data usable by a NN \"\"\"\n",
        "    \n",
        "    x = x.reshape(-1, size, size, channels) \n",
        "    x = np.float64(x)\n",
        "    x = (x / 255 - 0.5) * 2\n",
        "    x = np.clip(x, -1, 1)\n",
        "    \n",
        "    tx = tf.data.Dataset.from_tensor_slices(x)\n",
        "    return tx\n",
        "\n",
        "def deprocess(x, size, channels): \n",
        "    \"\"\" Define a function to make the generated images usable by imshow \"\"\"\n",
        "    \n",
        "    x = (x / 2 + 1) * 255\n",
        "    x = np.clip(x, 0, 255)\n",
        "    x = np.uint8(x)\n",
        "    if channels == 1:\n",
        "      x = x.reshape(size, size)\n",
        "    else:\n",
        "      x = x.reshape(size, size, channels)\n",
        "    return x\n",
        "\n",
        "\n",
        "def make_trainable(model, trainable):\n",
        "    \"\"\" To make trainable or not trainable the parameter of the a NN \"\"\"\n",
        "    \n",
        "    for layer in model.layers:\n",
        "        layer.trainable = trainable\n",
        "\n",
        "def maxlikeloss(y_true, y_pred):\n",
        "    def inverse_sigmoid(y):\n",
        "      return tf.math.log(y/(1-y))\n",
        "    lss = -0.5*tf.math.exp(inverse_sigmoid(y_pred))\n",
        "    return lss"
      ],
      "execution_count": 0,
      "outputs": []
    },
    {
      "cell_type": "code",
      "metadata": {
        "colab_type": "code",
        "id": "6Ro-3bLo6J9Y",
        "colab": {}
      },
      "source": [
        "class GAN():\n",
        "    \n",
        "    def __init__(self, name, data):\n",
        "        \n",
        "        # These are just default values, it is always better to call the proper function to\n",
        "        # initialize them\n",
        "        \n",
        "        self.name = name\n",
        "        self.data = data\n",
        "        self.val_frac = 0.01\n",
        "\n",
        "        self.game = \"non_saturating\"\n",
        "        \n",
        "        self.size = 32\n",
        "        self.channels = 3\n",
        "        self.batch_size = 128\n",
        "        self.noise_dim = 100\n",
        "        \n",
        "        self.d_learning_rate = 0.001\n",
        "        self.g_learning_rate = 0.0001\n",
        "        self.d_beta1 = 0.9\n",
        "        self.g_beta1 = 0.9\n",
        "        self.leaky_alpha = 0.2\n",
        "        \n",
        "        self.epochs = 10\n",
        "        self.model_complexity = 7\n",
        "        self.samples_to_generate = 16\n",
        "        self.training_time = 0\n",
        "        self.seed = tf.random.normal([self.samples_to_generate, self.noise_dim])\n",
        "\n",
        "        self.losses = {\"Train\": {'Gen': [], 'Disc': []}, \"Test\": {'Gen': [], 'Disc': []}}\n",
        "        \n",
        "        self.networks = {\"Generator\": None, \"Discriminator\": None}\n",
        "\n",
        "        # new working directory\n",
        "        self.main_folder = 'GAN_' + str(self.name) + '/'\n",
        "        if os.path.exists(self.main_folder):\n",
        "          shutil.rmtree(self.main_folder)\n",
        "          os.mkdir(self.main_folder)\n",
        "        else:\n",
        "          os.mkdir(self.main_folder)\n",
        "\n",
        "\n",
        "    def set_training_parameters(self, epochs=50, batch_size=128, d_lr=0.001, g_lr=0.0001, d_beta=0.9, g_beta=0.9, alpha=0.2, vf=0.01,\n",
        "                                size=32, ch=3, noise=100, smpls=16, mdl_cmplx=7, game=\"non_saturating\"):\n",
        "\n",
        "        self.batch_size = batch_size\n",
        "        self.d_learning_rate = d_lr\n",
        "        self.g_learning_rate = g_lr\n",
        "        self.d_beta1 = d_beta\n",
        "        self.g_beta1 = g_beta\n",
        "        self.leaky_alpha = alpha\n",
        "        self.epochs = epochs\n",
        "        self.size = size\n",
        "        self.channels = ch\n",
        "        self.val_frac = vf\n",
        "        self.noise_dim = noise\n",
        "        self.samples_to_generate = smpls\n",
        "        self.model_complexity = mdl_cmplx\n",
        "        self.seed = tf.random.normal([smpls, noise])\n",
        "        self.game=game\n",
        "\n",
        "\n",
        "    \n",
        "    def build_generator(self, summary=False):\n",
        "\n",
        "        s = self.size//8\n",
        "        mc = self.model_complexity \n",
        "\n",
        "        model = tf.keras.Sequential(name = \"Generator\")\n",
        "\n",
        "        model.add(layers.Dense(s*s*2**(mc+2), use_bias=False, input_shape=(self.noise_dim,)))\n",
        "        model.add(layers.Reshape(target_shape=(s, s, 2**(mc+2))))\n",
        "        model.add(layers.BatchNormalization())\n",
        "        model.add(layers.LeakyReLU(self.leaky_alpha))\n",
        "        \n",
        "        model.add(layers.Conv2DTranspose(2**(mc+1), kernel_size=4, strides=2, padding='same', kernel_initializer=RandomNormal(stddev=0.2)))\n",
        "        model.add(layers.BatchNormalization())\n",
        "        model.add(layers.LeakyReLU(self.leaky_alpha))\n",
        "\n",
        "        model.add(layers.Conv2DTranspose(2**mc, kernel_size=4, strides=2, padding='same', use_bias=False, kernel_initializer=RandomNormal(stddev=0.2)))\n",
        "        model.add(layers.BatchNormalization())\n",
        "        model.add(layers.LeakyReLU(self.leaky_alpha))\n",
        "        \n",
        "        model.add(layers.Conv2DTranspose(self.channels, kernel_size=4, strides=2, padding='same', activation='tanh', kernel_initializer=RandomNormal(stddev=0.2)))      \n",
        "        \n",
        "        \n",
        "        self.networks[\"Generator\"] = model\n",
        "        \n",
        "        if summary: print(model.summary())\n",
        "        \n",
        "        return model\n",
        "    \n",
        "    \n",
        "    def build_discriminator(self, summary=False):\n",
        "        \n",
        "        mc = self.model_complexity\n",
        "\n",
        "        model = tf.keras.Sequential(name = \"Discriminator\")\n",
        "        \n",
        "        model.add(layers.Conv2D(2**(mc-1), kernel_size=4, strides=1, padding='same', input_shape=(self.size, self.size, self.channels)))\n",
        "        model.add(layers.LeakyReLU(self.leaky_alpha))\n",
        "        model.add(layers.Dropout(0.3))\n",
        "        \n",
        "        model.add(layers.Conv2D(2**mc, kernel_size=4, strides=2, padding='same'))  \n",
        "        model.add(layers.BatchNormalization())\n",
        "        model.add(layers.LeakyReLU(self.leaky_alpha))\n",
        "        model.add(layers.Dropout(0.3))\n",
        "\n",
        "        model.add(layers.Conv2D(2**(mc+1), kernel_size=4, strides=2, padding='same'))  \n",
        "        model.add(layers.BatchNormalization())\n",
        "        model.add(layers.LeakyReLU(self.leaky_alpha))\n",
        "        model.add(layers.Dropout(0.3))\n",
        "\n",
        "        model.add(layers.Flatten())\n",
        "        model.add(layers.Dense(1, activation='sigmoid'))\n",
        "\n",
        "\n",
        "        self.networks[\"Discriminator\"] = model\n",
        "        \n",
        "        if summary: print(model.summary())\n",
        "        \n",
        "        return model\n",
        "\n",
        "    \n",
        "    def Train(self, progress=False):\n",
        "\n",
        "        test_size = int(self.val_frac*len(self.data))\n",
        "        error_seed = self.make_latent_samples(test_size)\n",
        "        \n",
        "        x_train, x_test = train_test_split(self.data, test_size=self.val_frac)\n",
        "        \n",
        "        x_train_real = preprocess(x_train, self.size, self.channels)\n",
        "        x_test_real  = preprocess(x_test, self.size, self.channels)\n",
        "\n",
        "        x_train_real = x_train_real.batch(self.batch_size, drop_remainder=True)\n",
        "     \n",
        "        y_train_real = tf.ones([self.batch_size, 1])\n",
        "        y_train_fake = tf.zeros([self.batch_size, 1])\n",
        "        y_eval_real  = tf.ones([test_size, 1])\n",
        "        y_eval_fake  = tf.zeros([test_size, 1])\n",
        "        \n",
        "        # Generator\n",
        "        generator = self.build_generator()\n",
        "\n",
        "        # Discriminator\n",
        "        discriminator = self.build_discriminator()\n",
        "        if self.game in [\"minimax\", \"non_saturating\", \"max_likelihood\"]:\n",
        "          discriminator.compile(optimizer=Adam(lr=self.d_learning_rate, beta_1=self.d_beta1), loss='binary_crossentropy')\n",
        "        if self.game==\"least_squares\":\n",
        "          discriminator.compile(optimizer=Adam(lr=self.d_learning_rate, beta_1=self.d_beta1), loss='mse')\n",
        "        \n",
        "        \n",
        "        # GAN\n",
        "        gan = tf.keras.Sequential([generator, discriminator])\n",
        "        if self.game in [\"minimax\", \"non_saturating\"]:\n",
        "          gan.compile(optimizer=Adam(lr=self.g_learning_rate, beta_1=self.g_beta1), loss='binary_crossentropy')\n",
        "        if self.game==\"least_squares\":\n",
        "          gan.compile(optimizer=Adam(lr=self.g_learning_rate, beta_1=self.g_beta1), loss='mse')\n",
        "        if self.game==\"max_likelihood\":\n",
        "          gan.compile(optimizer=Adam(lr=self.g_learning_rate, beta_1=self.g_beta1), loss=maxlikeloss)\n",
        "        \n",
        "    \n",
        "        start = time.time()\n",
        "\n",
        "        for epoch in tqdm(range(self.epochs)):\n",
        "\n",
        "          # Shuffeling data each epoch\n",
        "            x_train_real = x_train_real.shuffle(len(x_train), reshuffle_each_iteration=False) \n",
        "            x_test_real  = x_test_real.shuffle(len(x_test), reshuffle_each_iteration=False)\n",
        "\n",
        "            for x_batch_real in x_train_real:\n",
        "                \n",
        "                # latent samples and the generated digit images\n",
        "                latent_samples = self.make_latent_samples(n=self.batch_size)\n",
        "                x_batch_fake = generator.predict_on_batch(latent_samples)\n",
        "                \n",
        "                # train the discriminator to detect real and fake images\n",
        "                make_trainable(discriminator, True)\n",
        "                d_loss_real = discriminator.train_on_batch(x_batch_real, y_train_real * random.uniform(0.9, 1.0))\n",
        "                d_loss_fake = discriminator.train_on_batch(x_batch_fake, y_train_fake)\n",
        "                \n",
        "                # train the generator via GAN\n",
        "                make_trainable(discriminator, False)\n",
        "                if self.game==\"minimax\":\n",
        "                  g_loss = gan.train_on_batch(latent_samples, y_train_fake)\n",
        "                if self.game in [\"non_saturating\", \"least_squares\", \"max_likelihood\"]:\n",
        "                  g_loss = gan.train_on_batch(latent_samples, y_train_real)\n",
        "                \n",
        "                \n",
        "                self.losses[\"Train\"][\"Disc\"].append(0.5*np.add(d_loss_real, d_loss_fake))\n",
        "                self.losses[\"Train\"][\"Gen\"].append(g_loss)\n",
        "                \n",
        "\n",
        "            # evaluate\n",
        "            x_eval_real = list(x_test_real.as_numpy_iterator())\n",
        "            x_eval_real = np.array(x_eval_real)[np.random.choice(len(x_test), test_size, replace=False)]\n",
        "\n",
        "            x_eval_fake_plot = generator.predict_on_batch(self.seed)\n",
        "            x_eval_fake = generator.predict_on_batch(error_seed)\n",
        "            \n",
        "            d_loss  = discriminator.test_on_batch(x_eval_real, y_eval_real)*0.5\n",
        "            d_loss += discriminator.test_on_batch(x_eval_fake, y_eval_fake)*0.5 \n",
        "\n",
        "            \n",
        "            if self.game==\"minimax\":\n",
        "              g_loss  = gan.test_on_batch(error_seed, y_eval_fake) \n",
        "            if self.game in [\"non_saturating\", \"least_squares\", \"max_likelihood\"]:\n",
        "              g_loss  = gan.test_on_batch(error_seed, y_eval_real) \n",
        "\n",
        "                      \n",
        "                \n",
        "            self.losses[\"Test\"][\"Disc\"].append(d_loss)\n",
        "            self.losses[\"Test\"][\"Gen\"].append(g_loss)\n",
        "\n",
        "            \n",
        "            display.clear_output(wait=True)    \n",
        "            if progress:\n",
        "                print(\"Epoch:{:>3}/{},   Discriminator Loss:{:>7.4f},     Generator Loss:{:>7.4f}\".format(epoch+1, self.epochs, d_loss, g_loss))\n",
        "                self.show_progress(x_eval_fake_plot, epoch)\n",
        "\n",
        "        self.training_time = time.time() - start\n",
        "        print('\\nTotal training time: ', self.training_time)\n",
        "            \n",
        "\n",
        "            \n",
        "    \n",
        "    def show_progress(self, generated_images, epoch):\n",
        "\n",
        "        if os.path.exists(self.main_folder + 'progress_images/'):\n",
        "          pass\n",
        "        else: os.mkdir(self.main_folder + 'progress_images/')\n",
        "\n",
        "        fig = plt.figure(figsize=(10,10))\n",
        "        fig.suptitle('Epoch:{:4d}'.format(epoch+1), fontsize=15)\n",
        "        s = len(generated_images)\n",
        "\n",
        "        rows = 4\n",
        "        cols = 4\n",
        "\n",
        "        for i in range(s):\n",
        "            img = deprocess(generated_images[i], self.size, self.channels)\n",
        "            plt.subplot(rows, cols, i+1)\n",
        "            if self.channels == 1:\n",
        "              plt.imshow(img, cmap='gray')\n",
        "            else:\n",
        "              plt.imshow(img)\n",
        "            plt.xticks([])\n",
        "            plt.yticks([])\n",
        "        plt.tight_layout()\n",
        "        plt.subplots_adjust(top=0.9)\n",
        "        plt.savefig(self.main_folder + 'progress_images/image_at_epoch_{:04d}.png'.format(epoch+1))\n",
        "        plt.show()\n",
        "        \n",
        "        return\n",
        "    \n",
        "    \n",
        "    def Plot_losses(self, step=\"Test\"):\n",
        "        losses = np.array([self.losses[step][\"Disc\"], self.losses[step][\"Gen\"]])    \n",
        "    \n",
        "        fig, ax = plt.subplots()\n",
        "        plt.plot(losses[0], label='Discriminator', color='blue')\n",
        "        plt.plot(losses[1], label='Generator', color='red')\n",
        "        plt.xlabel('Epoch')\n",
        "        plt.ylabel('Loss')\n",
        "        plt.title(step + \" Losses\")\n",
        "        ax.set_ylim(bottom=0)\n",
        "        plt.legend()\n",
        "        plt.show()\n",
        "\n",
        "\n",
        "    def Get_progress_GIF(self):\n",
        "        \n",
        "        im_dir = self.main_folder + '/progress_images/'\n",
        "        images = []\n",
        "\n",
        "        for file_name in sorted(os.listdir(im_dir)):\n",
        "          if file_name.endswith('.png'):\n",
        "            file_path = os.path.join(im_dir, file_name)\n",
        "            images.append(imageio.imread(file_path))\n",
        "        \n",
        "        imageio.mimsave(self.main_folder + 'GAN.gif', images, fps=5)\n",
        "\n",
        "\n",
        "    def Get_Model(self, key):\n",
        "        return self.networks[key]\n",
        "    \n",
        "    def Save_parameters(self):\n",
        "        with open(self.main_folder + 'parameters.txt', 'w') as file:\n",
        "          file.write('Generative Adversarial Network: {}\\n'.format(self.name))\n",
        "          file.write('\\n')\n",
        "          file.write('Data shape: {}\\n'.format(self.data.shape))\n",
        "          file.write('Validation fraction: {}\\n'.format(self.val_frac))\n",
        "          file.write('Dimension of the latent data: {}\\n'.format(self.noise_dim))\n",
        "\n",
        "          file.write('\\n' + '----- Discriminator -----\\n')\n",
        "          file.write('Learning rate of the discriminator: {}\\n'.format(self.d_learning_rate))\n",
        "          file.write('Beta parameter of the discriminator: {}\\n'.format(self.d_beta1))\n",
        "          self.networks['Discriminator'].summary(print_fn=lambda x: file.write(x + '\\n'))\n",
        "\n",
        "          file.write('\\n' + '----- Generator -----\\n')\n",
        "          file.write('Learning rate of the generator: {}\\n'.format(self.g_learning_rate))\n",
        "          file.write('Beta parameter of the generator: {}\\n'.format(self.g_beta1))\n",
        "          self.networks['Generator'].summary(print_fn=lambda x: file.write(x + '\\n'))\n",
        "\n",
        "          file.write('\\n' + '----- Training parameters -----\\n')\n",
        "          file.write('Number of epochs: {}\\n'.format(self.epochs))\n",
        "          file.write('Total training time: {}\\n'.format(self.training_time))\n",
        "          file.write('Model complexity: {}\\n'.format(self.model_complexity))\n",
        "    \n",
        "    def Save_model(self, key, path):   \n",
        "        target = path + \"/\" + key + '.h5'        \n",
        "        self.networks[key].save(target)\n",
        "        print(key + \" successfully saved\")\n",
        "        return\n",
        "    \n",
        "    def Restore_model(self, key, path):\n",
        "        self.networks[key] = tf.keras.models.load_model(path)\n",
        "        print(key + \" successfully restored\")\n",
        "        return \n",
        "    \n",
        "    def make_latent_samples(self, n=1):\n",
        "        noise = tf.random.normal([n, self.noise_dim])\n",
        "        return noise\n",
        "    \n",
        "     "
      ],
      "execution_count": 0,
      "outputs": []
    },
    {
      "cell_type": "code",
      "metadata": {
        "colab_type": "code",
        "id": "3kP_xkc6Wo2R",
        "colab": {}
      },
      "source": [
        "# IMPORT DATA\n",
        "(X_train, _), (X_test, _) = datasets.mnist.load_data()\n",
        "images = np.concatenate([X_train, X_test])"
      ],
      "execution_count": 0,
      "outputs": []
    },
    {
      "cell_type": "code",
      "metadata": {
        "colab_type": "code",
        "id": "BwclUzJp7yR4",
        "colab": {}
      },
      "source": [
        "#from google.colab import drive\n",
        "#drive.mount('/content/drive')\n",
        "\n",
        "# To unpack data, in case\n",
        "#!tar -xvf drive/My\\ Drive/Colab\\ Notebooks/data/20ksquares.tar -C /content/\n",
        "#!tar -xvf drive/My\\ Drive/Colab\\ Notebooks/20kcircles.tar -C /content/\n",
        "#!tar -xvf drive/My\\ Drive/Colab\\ Notebooks/20ktriangles.tar -C /content/\n",
        "#!tar -xvf drive/My\\ Drive/Colab\\ Notebooks/20kstars.tar -C /content/\n",
        "#!tar -xvf drive/My\\ Drive/Colab\\ Notebooks/data/20kredstars.tar -C /content/\n",
        "#!tar -xvf drive/My\\ Drive/Colab\\ Notebooks/data/20kshapes.tar -C /content/\n",
        "#!tar -xvf drive/My\\ Drive/Colab\\ Notebooks/data/20k4shapes.tar -C /content/\n",
        "#!tar -xvf drive/My\\ Drive/Colab\\ Notebooks/data/celeba64.tar -C /content/"
      ],
      "execution_count": 0,
      "outputs": []
    },
    {
      "cell_type": "code",
      "metadata": {
        "colab_type": "code",
        "id": "OiDFFpgD7LrT",
        "outputId": "c59d0cfd-0613-456b-9f65-3b5a50f87ac2",
        "colab": {
          "base_uri": "https://localhost:8080/",
          "height": 301
        }
      },
      "source": [
        "#images_path = '/content/pics/'\n",
        "SIZE = 32\n",
        "\n",
        "#image_names = os.listdir(images_path)\n",
        "#images = np.array([imageio.imread(images_path+im) for im in image_names])\n",
        "#print(\"Data dimension: \", images.shape)\n",
        "\n",
        "# Scaling images \n",
        "images = np.array([np.asarray(PIL.Image.fromarray(images[i]).resize((SIZE, SIZE))) for i in range(len(images))])\n",
        "\n",
        "# Conversion from RGBA to grayscale\n",
        "#images = np.array([np.mean(images[i],axis=2) for i in range(len(images))])\n",
        "\n",
        "# Conversion from RGBA to RGB\n",
        "#images = np.array([np.asarray(PIL.Image.fromarray(images[i]).convert(\"RGB\")) for i in range(len(images))])\n",
        "\n",
        "print(\"New data dimension: \", images.shape)\n",
        "plt.imshow(images[np.random.randint(len(images))])"
      ],
      "execution_count": 6,
      "outputs": [
        {
          "output_type": "stream",
          "text": [
            "New data dimension:  (70000, 32, 32)\n"
          ],
          "name": "stdout"
        },
        {
          "output_type": "execute_result",
          "data": {
            "text/plain": [
              "<matplotlib.image.AxesImage at 0x7fd700b9b438>"
            ]
          },
          "metadata": {
            "tags": []
          },
          "execution_count": 6
        },
        {
          "output_type": "display_data",
          "data": {
            "image/png": "[encoded data removed]",
            "text/plain": [
              "<Figure size 432x288 with 1 Axes>"
            ]
          },
          "metadata": {
            "tags": [],
            "needs_background": "light"
          }
        }
      ]
    },
    {
      "cell_type": "code",
      "metadata": {
        "colab_type": "code",
        "id": "1B2PbiiYXtBq",
        "colab": {}
      },
      "source": [
        "DCGAN = GAN(name=\"MNIST\", data=images)"
      ],
      "execution_count": 0,
      "outputs": []
    },
    {
      "cell_type": "code",
      "metadata": {
        "colab_type": "code",
        "id": "y5tjCxIB5UDm",
        "colab": {}
      },
      "source": [
        "# Possible games: minimax, non_saturating, least_squares, max_likelihhod\n",
        "\n",
        "DCGAN.set_training_parameters(epochs=50, batch_size=128, d_lr=0.001, g_lr=0.0001, d_beta=0.5, g_beta=0.5, alpha=0.2, vf=0.01,\n",
        "                                size=32, ch=1, noise=100, smpls=16, mdl_cmplx=6, game=\"non_saturating\")"
      ],
      "execution_count": 0,
      "outputs": []
    },
    {
      "cell_type": "code",
      "metadata": {
        "colab_type": "code",
        "id": "TwRL4bjCYTD8",
        "colab": {
          "base_uri": "https://localhost:8080/",
          "height": 1000
        },
        "outputId": "48024bf1-b90e-4583-ec2c-10a51c5c5d6c"
      },
      "source": [
        "DCGAN.build_generator(summary=True)\n",
        "DCGAN.build_discriminator(summary=True)"
      ],
      "execution_count": 14,
      "outputs": [
        {
          "output_type": "stream",
          "text": [
            "Model: \"Generator\"\n",
            "_________________________________________________________________\n",
            "Layer (type)                 Output Shape              Param #   \n",
            "=================================================================\n",
            "dense_4 (Dense)              (None, 4096)              409600    \n",
            "_________________________________________________________________\n",
            "reshape_2 (Reshape)          (None, 4, 4, 256)         0         \n",
            "_________________________________________________________________\n",
            "batch_normalization_10 (Batc (None, 4, 4, 256)         1024      \n",
            "_________________________________________________________________\n",
            "leaky_re_lu_12 (LeakyReLU)   (None, 4, 4, 256)         0         \n",
            "_________________________________________________________________\n",
            "conv2d_transpose_6 (Conv2DTr (None, 8, 8, 128)         524416    \n",
            "_________________________________________________________________\n",
            "batch_normalization_11 (Batc (None, 8, 8, 128)         512       \n",
            "_________________________________________________________________\n",
            "leaky_re_lu_13 (LeakyReLU)   (None, 8, 8, 128)         0         \n",
            "_________________________________________________________________\n",
            "conv2d_transpose_7 (Conv2DTr (None, 16, 16, 64)        131072    \n",
            "_________________________________________________________________\n",
            "batch_normalization_12 (Batc (None, 16, 16, 64)        256       \n",
            "_________________________________________________________________\n",
            "leaky_re_lu_14 (LeakyReLU)   (None, 16, 16, 64)        0         \n",
            "_________________________________________________________________\n",
            "conv2d_transpose_8 (Conv2DTr (None, 32, 32, 1)         1025      \n",
            "=================================================================\n",
            "Total params: 1,067,905\n",
            "Trainable params: 1,067,009\n",
            "Non-trainable params: 896\n",
            "_________________________________________________________________\n",
            "None\n",
            "Model: \"Discriminator\"\n",
            "_________________________________________________________________\n",
            "Layer (type)                 Output Shape              Param #   \n",
            "=================================================================\n",
            "conv2d_6 (Conv2D)            (None, 32, 32, 32)        544       \n",
            "_________________________________________________________________\n",
            "leaky_re_lu_15 (LeakyReLU)   (None, 32, 32, 32)        0         \n",
            "_________________________________________________________________\n",
            "dropout_6 (Dropout)          (None, 32, 32, 32)        0         \n",
            "_________________________________________________________________\n",
            "conv2d_7 (Conv2D)            (None, 16, 16, 64)        32832     \n",
            "_________________________________________________________________\n",
            "batch_normalization_13 (Batc (None, 16, 16, 64)        256       \n",
            "_________________________________________________________________\n",
            "leaky_re_lu_16 (LeakyReLU)   (None, 16, 16, 64)        0         \n",
            "_________________________________________________________________\n",
            "dropout_7 (Dropout)          (None, 16, 16, 64)        0         \n",
            "_________________________________________________________________\n",
            "conv2d_8 (Conv2D)            (None, 8, 8, 128)         131200    \n",
            "_________________________________________________________________\n",
            "batch_normalization_14 (Batc (None, 8, 8, 128)         512       \n",
            "_________________________________________________________________\n",
            "leaky_re_lu_17 (LeakyReLU)   (None, 8, 8, 128)         0         \n",
            "_________________________________________________________________\n",
            "dropout_8 (Dropout)          (None, 8, 8, 128)         0         \n",
            "_________________________________________________________________\n",
            "flatten_2 (Flatten)          (None, 8192)              0         \n",
            "_________________________________________________________________\n",
            "dense_5 (Dense)              (None, 1)                 8193      \n",
            "=================================================================\n",
            "Total params: 173,537\n",
            "Trainable params: 173,153\n",
            "Non-trainable params: 384\n",
            "_________________________________________________________________\n",
            "None\n"
          ],
          "name": "stdout"
        },
        {
          "output_type": "execute_result",
          "data": {
            "text/plain": [
              "<tensorflow.python.keras.engine.sequential.Sequential at 0x7fd688272898>"
            ]
          },
          "metadata": {
            "tags": []
          },
          "execution_count": 14
        }
      ]
    },
    {
      "cell_type": "code",
      "metadata": {
        "colab_type": "code",
        "id": "llF20HDfNt4d",
        "outputId": "9b6fdf39-943d-4558-ad13-74f70f9272d3",
        "colab": {
          "base_uri": "https://localhost:8080/",
          "height": 807
        }
      },
      "source": [
        "DCGAN.Train(progress=True)"
      ],
      "execution_count": 15,
      "outputs": [
        {
          "output_type": "stream",
          "text": [
            "Epoch: 50/50,   Discriminator Loss: 0.3201,     Generator Loss: 3.6050\n"
          ],
          "name": "stdout"
        },
        {
          "output_type": "display_data",
          "data": {
            "image/png": "[encoded data removed]",
            "text/plain": [
              "<Figure size 720x720 with 16 Axes>"
            ]
          },
          "metadata": {
            "tags": []
          }
        },
        {
          "output_type": "stream",
          "text": [
            "\n",
            "100%|██████████| 50/50 [20:34<00:00, 24.68s/it]"
          ],
          "name": "stderr"
        },
        {
          "output_type": "stream",
          "text": [
            "\n",
            "Total training time:  1234.1388490200043\n"
          ],
          "name": "stdout"
        },
        {
          "output_type": "stream",
          "text": [
            "\n"
          ],
          "name": "stderr"
        }
      ]
    },
    {
      "cell_type": "code",
      "metadata": {
        "colab_type": "code",
        "id": "4iZempMG9XTV",
        "outputId": "1045c09b-4184-43e9-f8cc-4114742a7f41",
        "colab": {
          "base_uri": "https://localhost:8080/",
          "height": 295
        }
      },
      "source": [
        "DCGAN.Plot_losses(\"Train\")"
      ],
      "execution_count": 16,
      "outputs": [
        {
          "output_type": "display_data",
          "data": {
            "image/png": "[encoded data removed]",
            "text/plain": [
              "<Figure size 432x288 with 1 Axes>"
            ]
          },
          "metadata": {
            "tags": [],
            "needs_background": "light"
          }
        }
      ]
    },
    {
      "cell_type": "code",
      "metadata": {
        "id": "tanPozVJrH_r",
        "colab_type": "code",
        "colab": {
          "base_uri": "https://localhost:8080/",
          "height": 295
        },
        "outputId": "1a29ab00-7f77-4f72-cb51-355e919d6616"
      },
      "source": [
        "DCGAN.Plot_losses(\"Test\")"
      ],
      "execution_count": 17,
      "outputs": [
        {
          "output_type": "display_data",
          "data": {
            "image/png": "[encoded data removed]",
            "text/plain": [
              "<Figure size 432x288 with 1 Axes>"
            ]
          },
          "metadata": {
            "tags": [],
            "needs_background": "light"
          }
        }
      ]
    },
    {
      "cell_type": "code",
      "metadata": {
        "id": "HhvHiwWfrH_w",
        "colab_type": "code",
        "colab": {}
      },
      "source": [
        "DCGAN.Save_parameters()"
      ],
      "execution_count": 0,
      "outputs": []
    },
    {
      "cell_type": "code",
      "metadata": {
        "colab_type": "code",
        "id": "XQ8pbct2MeKw",
        "colab": {}
      },
      "source": [
        "DCGAN.Get_progress_GIF()"
      ],
      "execution_count": 0,
      "outputs": []
    },
    {
      "cell_type": "code",
      "metadata": {
        "id": "J8cIwpeorH_2",
        "colab_type": "code",
        "colab": {}
      },
      "source": [
        ""
      ],
      "execution_count": 0,
      "outputs": []
    }
  ]
}