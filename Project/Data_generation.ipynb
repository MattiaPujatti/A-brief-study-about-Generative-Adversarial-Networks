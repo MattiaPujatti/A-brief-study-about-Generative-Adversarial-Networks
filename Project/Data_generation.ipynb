{
 "cells": [
  {
   "cell_type": "code",
   "execution_count": 1,
   "metadata": {},
   "outputs": [],
   "source": [
    "import os\n",
    "import shutil\n",
    "import time\n",
    "from tqdm import tqdm\n",
    "import imageio\n",
    "\n",
    "import numpy as np\n",
    "import matplotlib.pyplot as plt\n",
    "import matplotlib as mpl\n",
    "from matplotlib import patches\n",
    "import PIL\n",
    "from matplotlib.markers import MarkerStyle\n",
    "\n",
    "from math import sqrt"
   ]
  },
  {
   "cell_type": "code",
   "execution_count": 2,
   "metadata": {},
   "outputs": [],
   "source": [
    "def generate_rndm_square():\n",
    "    vertex = np.random.uniform(0.1,0.8,2)\n",
    "    edge = np.random.uniform(0.1,0.4)\n",
    "    angle = np.random.uniform(0,360)\n",
    "    square = patches.Rectangle(xy=vertex, width=edge, height=edge, angle=angle, fill=True, color='green')\n",
    "    return square"
   ]
  },
  {
   "cell_type": "code",
   "execution_count": 3,
   "metadata": {},
   "outputs": [],
   "source": [
    "def generate_rndm_triangle():\n",
    "    center = np.random.uniform(0.2,0.8,2)\n",
    "    r = np.random.uniform(0.1,0.4)\n",
    "    angle = np.random.uniform(0,360)\n",
    "    t = mpl.transforms.Affine2D().rotate_deg_around(x=center[0], y=center[1], degrees=angle) + plt.gca().transData\n",
    "    triangle = patches.RegularPolygon(center, numVertices=3, radius=r, color=\"red\")\n",
    "    triangle.set_transform(t)\n",
    "    return triangle"
   ]
  },
  {
   "cell_type": "code",
   "execution_count": 4,
   "metadata": {},
   "outputs": [],
   "source": [
    "def generate_rndm_circle():\n",
    "    center = (np.random.uniform(0.1,0.9),np.random.uniform(0.1,0.9))\n",
    "    r = np.random.uniform(0.1,0.2)\n",
    "    circle = patches.Circle(xy=center, radius=r, color=\"blue\")\n",
    "    return circle"
   ]
  },
  {
   "cell_type": "code",
   "execution_count": 5,
   "metadata": {},
   "outputs": [],
   "source": [
    "def generate_rndm_star():\n",
    "    fig, ax = plt.subplots(1,1,figsize=(5,5))\n",
    "    pos = np.random.uniform(0.2,0.8,2)\n",
    "    size = np.random.uniform(5000,20000)\n",
    "    theta = np.random.uniform(0,360)\n",
    "    m = MarkerStyle(\"*\")\n",
    "    m._transform.rotate_deg(theta)\n",
    "    ax.scatter(x=pos[0], y=pos[1], marker=m, s=size, color=\"yellow\")\n",
    "    ax.set_xlim(0,1)\n",
    "    ax.set_ylim(0,1)\n",
    "    return fig,ax"
   ]
  },
  {
   "cell_type": "code",
   "execution_count": null,
   "metadata": {},
   "outputs": [],
   "source": [
    "def generate_mixed_image():\n",
    "    fig, ax = generate_rndm_star()\n",
    "    ax.add_patch(generate_rndm_square())\n",
    "    ax.add_patch(generate_rndm_triangle())\n",
    "    ax.add_patch(generate_rndm_circle())\n",
    "    return fig, ax\n",
    "\n",
    "shape = \"shapes\"\n",
    "NDATA = 20000\n",
    "if os.path.exists('pics_'+shape):\n",
    "  shutil.rmtree('pics_'+shape)\n",
    "os.mkdir('pics_'+shape)\n",
    "start = time.time()\n",
    "for i in tqdm(range(NDATA)):\n",
    "    fig,ax = generate_mixed_image()\n",
    "    ax.axis('off')\n",
    "    #plt.show()\n",
    "    fig.savefig(\"pics_\"+shape+'/'+shape+str(i), dpi=20)\n",
    "    plt.close()\n",
    "print(\"Created \", NDATA, \" images in \", time.time()-start)"
   ]
  },
  {
   "cell_type": "code",
   "execution_count": 6,
   "metadata": {},
   "outputs": [
    {
     "name": "stderr",
     "output_type": "stream",
     "text": [
      "100%|██████████| 20000/20000 [11:10<00:00, 29.83it/s]  "
     ]
    },
    {
     "name": "stdout",
     "output_type": "stream",
     "text": [
      "Created  20000  images in  670.54123711586\n"
     ]
    },
    {
     "name": "stderr",
     "output_type": "stream",
     "text": [
      "\n"
     ]
    }
   ],
   "source": [
    "def generate_4_shapes():\n",
    "    fig,ax = generate_rndm_star()\n",
    "    \n",
    "    square = generate_rndm_square()\n",
    "    square.set_transform(mpl.transforms.Affine2D().translate(tx=1,ty=1) + plt.gca().transData)\n",
    "    ax.add_patch(square)\n",
    "    triangle = generate_rndm_triangle()\n",
    "    triangle.set_transform(mpl.transforms.Affine2D().translate(tx=1,ty=0) + plt.gca().transData)\n",
    "    ax.add_patch(triangle)\n",
    "    circle = generate_rndm_circle()\n",
    "    circle.set_transform(mpl.transforms.Affine2D().translate(tx=0,ty=1) + plt.gca().transData)\n",
    "    ax.add_patch(circle)\n",
    "    \n",
    "    ax.set_xlim(0,2)\n",
    "    ax.set_ylim(0,2)\n",
    "    return fig, ax\n",
    "\n",
    "    \n",
    "shape = \"4shapes\"\n",
    "NDATA = 20000\n",
    "if os.path.exists('pics_'+shape):\n",
    "  shutil.rmtree('pics_'+shape)\n",
    "os.mkdir('pics_'+shape)\n",
    "start = time.time()\n",
    "for i in tqdm(range(NDATA)):\n",
    "    fig,ax = generate_4_shapes()\n",
    "    ax.axis('off')\n",
    "    #plt.show()\n",
    "    fig.savefig(\"pics_\"+shape+'/'+shape+str(i), dpi=30)\n",
    "    plt.close()\n",
    "print(\"Created \", NDATA, \" images in \", time.time()-start)"
   ]
  },
  {
   "cell_type": "code",
   "execution_count": null,
   "metadata": {},
   "outputs": [],
   "source": [
    "shape = 'star'\n",
    "\n",
    "NDATA = 20000\n",
    "if os.path.exists('pics_'+shape):\n",
    "  shutil.rmtree('pics_'+shape)\n",
    "os.mkdir('pics_'+shape)\n",
    "start = time.time()\n",
    "for i in tqdm(range(NDATA)):\n",
    "    #fig, ax = plt.subplots(1,1,figsize=(5,5))\n",
    "    #ax.add_patch(generate_rndm_triangle())\n",
    "    fig,ax = generate_rndm_star()\n",
    "    ax.axis('off')\n",
    "    #plt.show()\n",
    "    fig.savefig(\"pics_\"+shape+'/'+shape+str(i), dpi=20)\n",
    "    plt.close()\n",
    "print(\"Created \", NDATA, \" images in \", time.time()-start)"
   ]
  }
 ],
 "metadata": {
  "kernelspec": {
   "display_name": "Python 3",
   "language": "python",
   "name": "python3"
  },
  "language_info": {
   "codemirror_mode": {
    "name": "ipython",
    "version": 3
   },
   "file_extension": ".py",
   "mimetype": "text/x-python",
   "name": "python",
   "nbconvert_exporter": "python",
   "pygments_lexer": "ipython3",
   "version": "3.7.7"
  }
 },
 "nbformat": 4,
 "nbformat_minor": 4
}
