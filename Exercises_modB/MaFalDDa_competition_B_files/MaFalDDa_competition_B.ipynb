{
 "cells": [
  {
   "cell_type": "markdown",
   "metadata": {},
   "source": [
    "#### Importing useful libraries"
   ]
  },
  {
   "cell_type": "code",
   "execution_count": null,
   "metadata": {},
   "outputs": [],
   "source": [
    "import numpy as np\n",
    "from tensorflow import keras\n",
    "from tensorflow.keras.models import Sequential\n",
    "from tensorflow.keras.layers import Dense, Dropout, Flatten\n",
    "from tensorflow.keras.layers import Conv1D, MaxPooling1D\n",
    "from tensorflow.keras import initializers, regularizers\n",
    "from tensorflow.keras import optimizers\n",
    "\n",
    "from tensorflow.keras import initializers, regularizers, optimizers\n",
    "import tensorflow as tf\n",
    "from tensorflow.keras.layers import GaussianNoise\n",
    "from tensorflow.keras.callbacks import ModelCheckpoint"
   ]
  },
  {
   "cell_type": "markdown",
   "metadata": {},
   "source": [
    "#### Defining the architecture"
   ]
  },
  {
   "cell_type": "code",
   "execution_count": null,
   "metadata": {},
   "outputs": [],
   "source": [
    "input_shape = (60,1)\n",
    "\n",
    "ini = keras.initializers.he_normal()\n",
    "\n",
    "final_model = Sequential()\n",
    "final_model.add(GaussianNoise(0.07,input_shape=input_shape))\n",
    "final_model.add(Conv1D(filters=7,\n",
    "                 kernel_size=15,\n",
    "                 kernel_regularizer=keras.regularizers.l2(0.01),\n",
    "                 kernel_initializer=ini))\n",
    "final_model.add(tf.keras.layers.PReLU(shared_axes=[1]))\n",
    "final_model.add(MaxPooling1D(6, padding='same'))\n",
    "final_model.add(Conv1D(filters=6,\n",
    "                 kernel_size=3,\n",
    "                 kernel_regularizer=keras.regularizers.l2(0.00008),\n",
    "                 kernel_initializer=ini))\n",
    "final_model.add(tf.keras.layers.PReLU(shared_axes=[1]))\n",
    "final_model.add(Flatten())\n",
    "final_model.add(Dense(8, kernel_regularizer=keras.regularizers.l2(0.00008), kernel_initializer=ini))\n",
    "final_model.add(Dropout(0.16))\n",
    "final_model.add(tf.keras.layers.PReLU(shared_axes=[1]))\n",
    "final_model.add(Dense(3,activation='softmax'))\n",
    "\n",
    "opt = optimizers.Nadam()\n",
    "final_model.compile(loss=keras.losses.categorical_crossentropy,\n",
    "         optimizer=opt, metrics=['accuracy'])"
   ]
  },
  {
   "cell_type": "code",
   "execution_count": null,
   "metadata": {},
   "outputs": [],
   "source": [
    "print(final_model.summary())"
   ]
  },
  {
   "cell_type": "markdown",
   "metadata": {},
   "source": [
    "#### Loading the weights"
   ]
  },
  {
   "cell_type": "code",
   "execution_count": null,
   "metadata": {},
   "outputs": [],
   "source": [
    "final_model.load_weights('MaFalDDa_parameters_B.h5')"
   ]
  },
  {
   "cell_type": "markdown",
   "metadata": {},
   "source": [
    "#### Loading the data"
   ]
  },
  {
   "cell_type": "code",
   "execution_count": null,
   "metadata": {},
   "outputs": [],
   "source": [
    "fname = 'timeseries_competition.csv'\n",
    "x = np.loadtxt(fname,delimiter=',',dtype=float)\n",
    "N = len(x)\n",
    "\n",
    "# Subtract the mean of each series\n",
    "xm_horiz = x.mean(axis=1)\n",
    "for i in range(N):\n",
    "    x[i] -= xm_horiz[i]\n",
    "    \n",
    "# Subtract the mean of each feature in order to have unbiased series\n",
    "xm_vert = np.loadtxt('mean_features.txt')\n",
    "for i in range(len(x[0])):\n",
    "    x[:,i] -= xm_vert[i]\n",
    "    \n",
    "x_std = np.std(x)\n",
    "x /= x_std\n",
    "\n",
    "x = x.reshape(x.shape[0],60,1)"
   ]
  },
  {
   "cell_type": "markdown",
   "metadata": {},
   "source": [
    "#### Generating the outcome"
   ]
  },
  {
   "cell_type": "code",
   "execution_count": null,
   "metadata": {},
   "outputs": [],
   "source": [
    "y = final_model.predict_classes(x)\n",
    "np.savetxt('MaFalDDa_predictions_B.ipynb', y, fmt='%i')\n",
    "np.savetxt('MaFalDDa_predictions_B.txt', y, fmt='%i')"
   ]
  }
 ],
 "metadata": {
  "kernelspec": {
   "display_name": "Python 3",
   "language": "python",
   "name": "python3"
  },
  "language_info": {
   "codemirror_mode": {
    "name": "ipython",
    "version": 3
   },
   "file_extension": ".py",
   "mimetype": "text/x-python",
   "name": "python",
   "nbconvert_exporter": "python",
   "pygments_lexer": "ipython3",
   "version": "3.7.4"
  }
 },
 "nbformat": 4,
 "nbformat_minor": 2
}
