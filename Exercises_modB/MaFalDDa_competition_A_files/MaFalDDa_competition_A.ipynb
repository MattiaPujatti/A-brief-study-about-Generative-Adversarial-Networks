{
 "cells": [
  {
   "cell_type": "markdown",
   "metadata": {},
   "source": [
    "#### Importing useful libraries"
   ]
  },
  {
   "cell_type": "code",
   "execution_count": null,
   "metadata": {},
   "outputs": [],
   "source": [
    "import math\n",
    "import csv\n",
    "import numpy as np\n",
    "\n",
    "import tensorflow as tf\n",
    "from tensorflow import keras\n",
    "from tensorflow.keras import Sequential\n",
    "from tensorflow.keras.layers import Dense, Dropout\n",
    "from tensorflow.keras.layers import PReLU\n",
    "\n",
    "LD = 63"
   ]
  },
  {
   "cell_type": "markdown",
   "metadata": {},
   "source": [
    "#### Defining the architecture"
   ]
  },
  {
   "cell_type": "code",
   "execution_count": null,
   "metadata": {},
   "outputs": [],
   "source": [
    "dropout = 0.15\n",
    "\n",
    "reg = tf.keras.regularizers.l2(0.01)\n",
    "\n",
    "final_model = Sequential()\n",
    "final_model.add(Dense(LD,input_shape=(LD,), kernel_regularizer=reg))\n",
    "final_model.add(tf.keras.layers.PReLU())\n",
    "final_model.add(Dropout(dropout))\n",
    "final_model.add(Dense(max(10,int(LD/2)), kernel_regularizer=reg))\n",
    "final_model.add(tf.keras.layers.PReLU())\n",
    "final_model.add(Dropout(dropout))\n",
    "final_model.add(Dense(max(6,int(LD/4)), kernel_regularizer=reg))\n",
    "final_model.add(tf.keras.layers.PReLU())\n",
    "final_model.add(Dropout(dropout))\n",
    "final_model.add(Dense(1,activation='sigmoid'))\n",
    "        \n",
    "final_model.compile(loss='binary_crossentropy',optimizer='nadam',\n",
    "              metrics=['accuracy'])"
   ]
  },
  {
   "cell_type": "code",
   "execution_count": null,
   "metadata": {},
   "outputs": [],
   "source": [
    "print(final_model.summary())"
   ]
  },
  {
   "cell_type": "markdown",
   "metadata": {},
   "source": [
    "#### Loading the weights"
   ]
  },
  {
   "cell_type": "code",
   "execution_count": null,
   "metadata": {},
   "outputs": [],
   "source": [
    "final_model.load_weights('MaFalDDa_parameters_A.h5')"
   ]
  },
  {
   "cell_type": "markdown",
   "metadata": {},
   "source": [
    "#### Loading the data"
   ]
  },
  {
   "cell_type": "code",
   "execution_count": null,
   "metadata": {},
   "outputs": [],
   "source": [
    "def expand(S):\n",
    "    L = 7\n",
    "    D = 9\n",
    "    if(len(str(S)) != L):\n",
    "        print('debugging: mismatch!')\n",
    "        return []\n",
    "    x = [0] * LD\n",
    "    p = 10**(L-1)\n",
    "    j = 0\n",
    "    while j<L:\n",
    "        q = int(S/p)  #obtained 1st digit\n",
    "        # recall that positions in python start from 0\n",
    "        x[j*D+q-1] = 1\n",
    "        j+=1\n",
    "        S = S - q*p\n",
    "        p = int(p/10)\n",
    "    return x"
   ]
  },
  {
   "cell_type": "code",
   "execution_count": null,
   "metadata": {},
   "outputs": [],
   "source": [
    "fname = 'secretkeys_competition.csv'\n",
    "dataset = np.loadtxt(fname, delimiter=',', dtype=int)\n",
    "\n",
    "try:\n",
    "    if dataset.shape[1]==2:\n",
    "        x_raw = dataset[:,0]\n",
    "    else:\n",
    "        x_raw = dataset\n",
    "except:\n",
    "    x_raw = dataset\n",
    "    \n",
    "\n",
    "x = [None] * len(x_raw)\n",
    "for ii in range(len(x_raw)):\n",
    "    x[ii] = expand(x_raw[ii])\n",
    "    \n",
    "x = np.array(x)"
   ]
  },
  {
   "cell_type": "markdown",
   "metadata": {},
   "source": [
    "#### Generating the outcome"
   ]
  },
  {
   "cell_type": "code",
   "execution_count": null,
   "metadata": {},
   "outputs": [],
   "source": [
    "y = np.round(final_model.predict(x)).astype(int)\n",
    "np.savetxt('MaFalDDa_predictions_A.ipynb', y, fmt='%i')\n",
    "np.savetxt('MaFalDDa_predictions_A.txt', y, fmt='%i')"
   ]
  },
  {
   "cell_type": "code",
   "execution_count": null,
   "metadata": {},
   "outputs": [],
   "source": []
  }
 ],
 "metadata": {
  "kernelspec": {
   "display_name": "Python 3",
   "language": "python",
   "name": "python3"
  },
  "language_info": {
   "codemirror_mode": {
    "name": "ipython",
    "version": 3
   },
   "file_extension": ".py",
   "mimetype": "text/x-python",
   "name": "python",
   "nbconvert_exporter": "python",
   "pygments_lexer": "ipython3",
   "version": "3.7.4"
  }
 },
 "nbformat": 4,
 "nbformat_minor": 2
}
